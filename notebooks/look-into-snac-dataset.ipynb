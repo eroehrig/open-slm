{
 "cells": [
  {
   "cell_type": "code",
   "execution_count": null,
   "metadata": {},
   "outputs": [],
   "source": [
    "# load  dataset\n",
    "from datasets import load_dataset\n",
    "dataset = load_dataset(\"blanchon/snac_llm_parler_tts\") # needs datasets ~2.19.1\n",
    "\n",
    "sample = dataset[\"train\"][0]\n",
    "print(f'{int(sample[\"begin_time\"]/60)}:{int(sample[\"begin_time\"]%60)}min from:', sample[\"original_path\"])"
   ]
  },
  {
   "cell_type": "code",
   "execution_count": null,
   "metadata": {},
   "outputs": [],
   "source": [
    "# load snac model\n",
    "from snac import SNAC\n",
    "\n",
    "model = SNAC.from_pretrained(\"hubertsiuzdak/snac_24khz\").eval()\n",
    "model = model.cuda()"
   ]
  },
  {
   "cell_type": "code",
   "execution_count": null,
   "metadata": {},
   "outputs": [],
   "source": [
    "# restore sample from dataset\n",
    "\n",
    "from collections import deque\n",
    "from IPython.display import Audio\n",
    "import torch\n",
    "import soundfile as sf\n",
    "\n",
    "AUDIO_FILE_PATH = 'data/reconstructed_audio.wav'\n",
    "\n",
    "def reconstruct_codec(flattened):\n",
    "\n",
    "    flattened = deque(flattened) # makes it efficient\n",
    "    lists = [[],[],[]]\n",
    "\n",
    "    while flattened:\n",
    "        lists[0] += [flattened.popleft()]\n",
    "        lists[1] += [flattened.popleft()]\n",
    "        lists[2] += [flattened.popleft()]\n",
    "        lists[2] += [flattened.popleft()]\n",
    "        lists[1] += [flattened.popleft()]\n",
    "        lists[2] += [flattened.popleft()]\n",
    "        lists[2] += [flattened.popleft()]\n",
    "\n",
    "    return [torch.tensor(l).unsqueeze(0).to(\"cuda\") for l in lists]\n",
    "\n",
    "def flat_codec(codec):\n",
    "\n",
    "    flattened = []\n",
    "    for i in range(len(codec[0][0])):\n",
    "        flattened.append(codec[0][0][i])\n",
    "        flattened.append(codec[1][0][2*i])\n",
    "        flattened.append(codec[2][0][4*i])\n",
    "\n",
    "        if 4*i + 1 < len(codec[2][0]):\n",
    "            flattened.append(codec[2][0][4*i + 1])\n",
    "\n",
    "        if 2*i + 1 < len(codec[1][0]):\n",
    "            flattened.append(codec[1][0][2*i + 1])\n",
    "            flattened.append(codec[2][0][4*i + 2])\n",
    "\n",
    "            if 4*i + 3 < len(codec[2][0]):\n",
    "                flattened.append(codec[2][0][4*i + 3])\n",
    "\n",
    "    return flattened\n",
    "\n",
    "\n",
    "\n",
    "with torch.inference_mode():\n",
    "    tokens = [int(t) for t in sample[\"snac24khz\"].split(\" \")]\n",
    "    codes = reconstruct_codec(tokens)\n",
    "    #codes = reconstruct_codec(flat_codec(codes))\n",
    "    audio_hat = model.decode(codes)\n",
    "\n",
    "sf.write(AUDIO_FILE_PATH, audio_hat.cpu().detach().numpy().squeeze(), 24000)\n",
    "Audio(AUDIO_FILE_PATH)"
   ]
  }
 ],
 "metadata": {
  "kernelspec": {
   "display_name": "default-6IQEWI-N-py3.10",
   "language": "python",
   "name": "python3"
  },
  "language_info": {
   "codemirror_mode": {
    "name": "ipython",
    "version": 3
   },
   "file_extension": ".py",
   "mimetype": "text/x-python",
   "name": "python",
   "nbconvert_exporter": "python",
   "pygments_lexer": "ipython3",
   "version": "3.10.10"
  }
 },
 "nbformat": 4,
 "nbformat_minor": 2
}
